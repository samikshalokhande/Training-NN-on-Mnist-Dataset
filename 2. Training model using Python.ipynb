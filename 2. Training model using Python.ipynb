{
  "nbformat": 4,
  "nbformat_minor": 0,
  "metadata": {
    "colab": {
      "name": "4. Mnist Training  .ipynb",
      "provenance": [],
      "collapsed_sections": [],
      "include_colab_link": true
    },
    "kernelspec": {
      "name": "python3",
      "display_name": "Python 3"
    },
    "accelerator": "GPU"
  },
  "cells": [
    {
      "cell_type": "markdown",
      "metadata": {
        "id": "view-in-github",
        "colab_type": "text"
      },
      "source": [
        "<a href=\"https://colab.research.google.com/github/samikshalokhande/Training-NN-on-Mnist-Dataset/blob/main/2.%20Training%20model%20using%20Python.ipynb\" target=\"_parent\"><img src=\"https://colab.research.google.com/assets/colab-badge.svg\" alt=\"Open In Colab\"/></a>"
      ]
    },
    {
      "cell_type": "code",
      "metadata": {
        "id": "lPXNiassMv0V"
      },
      "source": [
        "import numpy\n",
        "import scipy.special\n",
        "import os\n",
        "import numpy\n",
        "import matplotlib.pyplot as plt"
      ],
      "execution_count": 1,
      "outputs": []
    },
    {
      "cell_type": "code",
      "metadata": {
        "id": "uh5SqZRX7Th9",
        "outputId": "0e57b46a-eb78-4ef8-e894-85b154fc5a60",
        "colab": {
          "base_uri": "https://localhost:8080/"
        }
      },
      "source": [
        "from google.colab import drive\n",
        "drive.mount('/content/gdrive')\n"
      ],
      "execution_count": 2,
      "outputs": [
        {
          "output_type": "stream",
          "text": [
            "Mounted at /content/gdrive\n"
          ],
          "name": "stdout"
        }
      ]
    },
    {
      "cell_type": "code",
      "metadata": {
        "id": "WXokkMy0M3ef",
        "outputId": "358e5dfc-605b-4adb-9d2d-70020e3476bf",
        "colab": {
          "base_uri": "https://localhost:8080/"
        }
      },
      "source": [
        "numpy.random.rand(3,3) - 0.5"
      ],
      "execution_count": 3,
      "outputs": [
        {
          "output_type": "execute_result",
          "data": {
            "text/plain": [
              "array([[ 0.35839633,  0.42979491,  0.44106864],\n",
              "       [-0.31871564, -0.39618734, -0.1401483 ],\n",
              "       [ 0.10970662, -0.36266772,  0.2984559 ]])"
            ]
          },
          "metadata": {
            "tags": []
          },
          "execution_count": 3
        }
      ]
    },
    {
      "cell_type": "code",
      "metadata": {
        "id": "VagC1rXnE95d"
      },
      "source": [
        "class neuralnets:\n",
        "\n",
        "  def __init__(self, inputnodes,hiddennodes, outputnodes, learningrate):\n",
        "    self.inodes = inputnodes\n",
        "    self.hnodes = hiddennodes\n",
        "    self.onodes = outputnodes\n",
        "    self.lr = learningrate\n",
        "\n",
        "    self.winput_hidden = numpy.random.rand(self.hnodes,self.inodes) - 0.5\n",
        "    self.whidden_output = numpy.random.rand(self.onodes,self.hnodes) - 0.5\n",
        "\n",
        "   \n",
        "\n",
        "  def train(self,input_list, target_list):\n",
        "    # 1 give output for ttraining ex\n",
        "    #2 compare it with desired output and change weights\n",
        "    \n",
        "    inputs =  numpy.array(input_list, ndmin = 2).T \n",
        "    targets =  numpy.array(target_list, ndmin = 2).T  \n",
        "    \n",
        "    hidden_inputs = numpy.dot(self.winput_hidden, inputs)   #x_hiddem = w input_hidden . I\n",
        "    hidden_outputs = self.activation_function(hidden_inputs)\n",
        "    \n",
        "    final_inputs = numpy.dot(self.whidden_output,hidden_outputs) #output = w hidden_op . O_hidden\n",
        "    final_outputs =  self.activation_function(final_inputs)\n",
        "\n",
        "    output_error =  targets - final_outputs     #error hidden and output\n",
        "    hidden_error = numpy.dot(self.whidden_output.T, output_error)    #error hidden and input\n",
        "\n",
        "    #learning rate\n",
        "    self.whidden_output += self.lr*numpy.dot((output_error * final_outputs*(1.0- final_outputs)), numpy.transpose(hidden_outputs))\n",
        "    self.winput_hidden+= self.lr*numpy.dot((hidden_error*hidden_outputs*(1.0- hidden_outputs)),numpy.transpose(inputs))\n",
        "    pass\n",
        "\n",
        "  def activation_function(self,x):\n",
        "    return(scipy.special.expit(x))  #expit is sigmoid function\n",
        "      \n",
        "\n",
        "  def query(self, input_list): #takes input to nn and returns output    \n",
        "    inputs =  numpy.array(input_list, ndmin = 2).T   #convert 2D array \n",
        "\n",
        "    hidden_inputs = numpy.dot(self.winput_hidden, inputs)   #x_hiddem = w input_hidden . I\n",
        "    hidden_outputs = self.activation_function(hidden_inputs)\n",
        "\n",
        "    final_inputs = numpy.dot(self.whidden_output,hidden_outputs) #output = w hidden_op . O_hidden\n",
        "    final_outputs =  self.activation_function(final_inputs)\n",
        "\n",
        "    return final_outputs\n",
        "\n",
        "\n"
      ],
      "execution_count": 4,
      "outputs": []
    },
    {
      "cell_type": "code",
      "metadata": {
        "id": "KYIKYlEAIW9K"
      },
      "source": [
        "\n",
        "input_node = 784\n",
        "hidden_node = 100\n",
        "output_node = 10\n",
        "learning_rate = 0.1\n",
        "n = neuralnets(input_node, hidden_node, output_node, learning_rate) \n"
      ],
      "execution_count": 5,
      "outputs": []
    },
    {
      "cell_type": "code",
      "metadata": {
        "id": "dNiZ-ppPIgiW"
      },
      "source": [
        "#n.query([1.0,0.5,-1.5])"
      ],
      "execution_count": 6,
      "outputs": []
    },
    {
      "cell_type": "code",
      "metadata": {
        "id": "gPPqYGHL8WvZ"
      },
      "source": [
        "training_data_file = open('gdrive/My Drive/Colab Notebooks/tariq rashhed/mnist dataset/mnist_train.csv')\n",
        "training_data_list = training_data_file.readlines()\n",
        "training_data_file.close()\n"
      ],
      "execution_count": 7,
      "outputs": []
    },
    {
      "cell_type": "code",
      "metadata": {
        "id": "of3pUvh4XqZK",
        "outputId": "54f50be6-1d0d-439b-bdfd-6544f5787023",
        "colab": {
          "base_uri": "https://localhost:8080/"
        }
      },
      "source": [
        "epochs = 10\n",
        "for e in range(epochs):\n",
        "  print(epochs)\n",
        "  for record in training_data_list:\n",
        "    all_value = record.split(',') #splits the string by commas #still string \n",
        "    inputs = (numpy.asfarray(all_value[1:]) / 255.5 * 0.99) + 0.01\n",
        "    targets = numpy.zeros(output_node) + 0.01\n",
        "    targets[int(all_value[0])] = 0.99     #string to int \n",
        "    n.train(inputs , targets)\n",
        "    \n",
        "    pass\n",
        "  pass"
      ],
      "execution_count": 8,
      "outputs": [
        {
          "output_type": "stream",
          "text": [
            "10\n",
            "10\n",
            "10\n",
            "10\n",
            "10\n",
            "10\n",
            "10\n",
            "10\n",
            "10\n",
            "10\n"
          ],
          "name": "stdout"
        }
      ]
    },
    {
      "cell_type": "code",
      "metadata": {
        "id": "YR5TX3pn_SAp"
      },
      "source": [
        "test_data_file = open('gdrive/My Drive/Colab Notebooks/tariq rashhed/mnist dataset/mnist_test.csv')\n",
        "test_data_list = test_data_file.readlines()\n",
        "test_data_file.close()"
      ],
      "execution_count": 9,
      "outputs": []
    },
    {
      "cell_type": "code",
      "metadata": {
        "id": "qIRBLcjfB1Fn"
      },
      "source": [
        "# aa = test_data_list[1].split(',')\n",
        "# print(aa[1])\n",
        "# i = numpy.asfarray(aa[1:]).reshape((28,28))   #covert string to array[numbers]\n",
        "# plt.imshow(i)\n",
        "# n.query((numpy.asfarray(aa[1:]))/ 255.0 * 0.99 +0.01)"
      ],
      "execution_count": 10,
      "outputs": []
    },
    {
      "cell_type": "code",
      "metadata": {
        "id": "s9SsQHquCJPT"
      },
      "source": [
        "scorecard = []\n",
        "for record in test_data_list:\n",
        "  all_value = record.split(',') #splits the string by commas #still string\n",
        "  correct_label = int(all_value[0]) \n",
        " # print(correct_label, \"correct label\")\n",
        "  inputs = (numpy.asfarray(all_value[1:]) / 255.5 * 0.99) + 0.01\n",
        "  output = n.query(inputs)\n",
        "  label = numpy.argmax(output)\n",
        " # print(label, \"network's answer\")\n",
        "  if (label == correct_label):\n",
        "    scorecard.append(1)\n",
        "  else:\n",
        "    scorecard.append(0)\n",
        "    pass\n",
        "  pass\n",
        "\n"
      ],
      "execution_count": 11,
      "outputs": []
    },
    {
      "cell_type": "code",
      "metadata": {
        "id": "G1phTmaZE4nc",
        "outputId": "aedb38e9-1bdf-40da-9ea9-67456f4206b1",
        "colab": {
          "base_uri": "https://localhost:8080/"
        }
      },
      "source": [
        "scorecard_array =  numpy.asarray(scorecard)\n",
        "print(\"performance= \", scorecard_array.sum() / scorecard_array.size)"
      ],
      "execution_count": 12,
      "outputs": [
        {
          "output_type": "stream",
          "text": [
            "performance=  0.9676\n"
          ],
          "name": "stdout"
        }
      ]
    },
    {
      "cell_type": "code",
      "metadata": {
        "id": "nTppgxmGXFgh"
      },
      "source": [
        ""
      ],
      "execution_count": 12,
      "outputs": []
    }
  ]
}